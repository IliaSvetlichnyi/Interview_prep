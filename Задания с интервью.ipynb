{
 "cells": [
  {
   "cell_type": "code",
   "execution_count": 1,
   "metadata": {},
   "outputs": [],
   "source": [
    "def aaa(arr):\n",
    "    arr.append(2)\n",
    "    return arr\n",
    "\n",
    "arr = []\n",
    "arr_1 = arr # []\n",
    "b = aaa(arr) # [2]\n",
    "c = aaa(arr_1) # [2, 2]\n",
    "\n",
    "# c - ???"
   ]
  },
  {
   "cell_type": "code",
   "execution_count": 2,
   "metadata": {},
   "outputs": [
    {
     "data": {
      "text/plain": [
       "[2, 2]"
      ]
     },
     "execution_count": 2,
     "metadata": {},
     "output_type": "execute_result"
    }
   ],
   "source": [
    "c "
   ]
  },
  {
   "cell_type": "code",
   "execution_count": 14,
   "metadata": {},
   "outputs": [
    {
     "data": {
      "text/plain": [
       "((3, 10), (5, 8), (8, 5), (10, 3))"
      ]
     },
     "execution_count": 14,
     "metadata": {},
     "output_type": "execute_result"
    }
   ],
   "source": [
    "### Написать функцию sum_of_two(arr: list, target: int) -> tuple\n",
    "# ((5, 8), (3, 10))\n",
    "arr = [1, 3, 5, 8, 10]\n",
    "target = 13\n",
    "\n",
    "\n",
    "def sum_of_two(arr: list, target: int) -> tuple:\n",
    "    result = []\n",
    "    for i in arr:\n",
    "        for j in arr:\n",
    "            if i + j == target:\n",
    "                result.append((i, j))\n",
    "                # result += (i, j)\n",
    "\n",
    "    return tuple(result)\n",
    "\n",
    "\n",
    "\n",
    "sum_of_two(arr, target)"
   ]
  },
  {
   "cell_type": "code",
   "execution_count": 15,
   "metadata": {},
   "outputs": [
    {
     "name": "stdout",
     "output_type": "stream",
     "text": [
      "((3, 10), (5, 8))\n"
     ]
    }
   ],
   "source": [
    "def sum_of_two(arr: list, target: int) -> tuple:\n",
    "    pairs = []\n",
    "    for i in range(len(arr)):\n",
    "        for j in range(i+1, len(arr)):\n",
    "            if arr[i] + arr[j] == target:\n",
    "                pairs.append((arr[i], arr[j]))\n",
    "    return tuple(pairs)\n",
    "\n",
    "arr = [1, 3, 5, 8, 10]\n",
    "target = 13\n",
    "print(sum_of_two(arr, target))  # ((3, 10), (5, 8))\n"
   ]
  },
  {
   "cell_type": "code",
   "execution_count": null,
   "metadata": {},
   "outputs": [],
   "source": []
  }
 ],
 "metadata": {
  "kernelspec": {
   "display_name": "Python 3.10 (mainvenv)",
   "language": "python",
   "name": "mainenv"
  },
  "language_info": {
   "codemirror_mode": {
    "name": "ipython",
    "version": 3
   },
   "file_extension": ".py",
   "mimetype": "text/x-python",
   "name": "python",
   "nbconvert_exporter": "python",
   "pygments_lexer": "ipython3",
   "version": "3.10.10"
  },
  "orig_nbformat": 4
 },
 "nbformat": 4,
 "nbformat_minor": 2
}
