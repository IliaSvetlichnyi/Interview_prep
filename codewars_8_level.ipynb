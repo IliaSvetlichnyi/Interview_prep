{
 "cells": [
  {
   "cell_type": "code",
   "execution_count": 26,
   "metadata": {},
   "outputs": [
    {
     "data": {
      "text/plain": [
       "811181"
      ]
     },
     "execution_count": 26,
     "metadata": {},
     "output_type": "execute_result"
    }
   ],
   "source": [
    "def square_digits(num):\n",
    "\n",
    "    num_str = str(num)\n",
    "    \n",
    "    result = ''\n",
    "    \n",
    "    for i in num_str:\n",
    "        result += str(int(i) ** 2)\n",
    "        \n",
    "    return int(result)\n",
    "\n",
    "\n",
    "number = 9119\n",
    "\n",
    "square_digits(number)"
   ]
  },
  {
   "cell_type": "code",
   "execution_count": null,
   "metadata": {},
   "outputs": [],
   "source": [
    "high_and_low(\"1 2 -3 4 5\") # return \"5 -3\""
   ]
  },
  {
   "cell_type": "code",
   "execution_count": null,
   "metadata": {},
   "outputs": [],
   "source": []
  },
  {
   "cell_type": "code",
   "execution_count": 42,
   "metadata": {},
   "outputs": [
    {
     "data": {
      "text/plain": [
       "'5 -3'"
      ]
     },
     "execution_count": 42,
     "metadata": {},
     "output_type": "execute_result"
    }
   ],
   "source": [
    "def high_and_low(numbers):\n",
    "\n",
    "    num = [int(i) for i in numbers.split()]\n",
    "    \n",
    "    return \"{} {}\".format(max(num), min(num))\n",
    "\n",
    "numbers = \"1 2 -3 4 5\"\n",
    "\n",
    "high_and_low(numbers)"
   ]
  },
  {
   "cell_type": "code",
   "execution_count": 32,
   "metadata": {},
   "outputs": [
    {
     "name": "stdout",
     "output_type": "stream",
     "text": [
      "12-345\n"
     ]
    }
   ],
   "source": [
    "numbers = \"1 2 -3 4 5\"\n",
    "\n",
    "numbers = numbers.replace(' ', '')\n",
    "\n",
    "print(numbers)"
   ]
  },
  {
   "cell_type": "code",
   "execution_count": null,
   "metadata": {},
   "outputs": [],
   "source": []
  }
 ],
 "metadata": {
  "kernelspec": {
   "display_name": "Python 3.10 (mainvenv)",
   "language": "python",
   "name": "mainenv"
  },
  "language_info": {
   "codemirror_mode": {
    "name": "ipython",
    "version": 3
   },
   "file_extension": ".py",
   "mimetype": "text/x-python",
   "name": "python",
   "nbconvert_exporter": "python",
   "pygments_lexer": "ipython3",
   "version": "3.10.10"
  },
  "orig_nbformat": 4
 },
 "nbformat": 4,
 "nbformat_minor": 2
}
