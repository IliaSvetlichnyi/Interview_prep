{
 "cells": [
  {
   "cell_type": "markdown",
   "metadata": {},
   "source": [
    "# 1"
   ]
  },
  {
   "cell_type": "code",
   "execution_count": 2,
   "metadata": {},
   "outputs": [],
   "source": [
    "class Solution(object):\n",
    "    def twoSum(self, nums, target):\n",
    "        \"\"\"\n",
    "        :type nums: List[int]\n",
    "        :type target: int\n",
    "        :rtype: List[int]\n",
    "        \"\"\"\n",
    "        for i in range(0, len(nums)):\n",
    "            for j in range(i+1, len(nums)):\n",
    "                if nums[i] + nums[j] == target:\n",
    "                    return [i, j]\n"
   ]
  },
  {
   "cell_type": "code",
   "execution_count": 3,
   "metadata": {},
   "outputs": [
    {
     "name": "stdout",
     "output_type": "stream",
     "text": [
      "[0, 1]\n"
     ]
    }
   ],
   "source": [
    "nums, target = [2,7,11,15], 9\n",
    "solution = Solution()\n",
    "print(solution.twoSum(nums, target))"
   ]
  },
  {
   "cell_type": "markdown",
   "metadata": {},
   "source": [
    "# 2"
   ]
  },
  {
   "cell_type": "code",
   "execution_count": 12,
   "metadata": {},
   "outputs": [],
   "source": [
    "class Solution(object):\n",
    "    def romanToInt(self, s):\n",
    "        dict_of_roman_numbers = {\n",
    "            'I' : 1,\n",
    "            'V' : 5,\n",
    "            'X' : 10,\n",
    "            'L' : 50,\n",
    "            'C' : 100,\n",
    "            'D' : 500,\n",
    "            'M' : 1000\n",
    "        }\n",
    "        \n",
    "        int_number = 0\n",
    "        prev_value = 0\n",
    "\n",
    "        for i in reversed(s):  # We're iterating from end to start\n",
    "            current_value = dict_of_roman_numbers[i]\n",
    "            if current_value < prev_value:  # This checks if the current numeral is less than the previous one\n",
    "                int_number -= current_value\n",
    "            else:\n",
    "                int_number += current_value\n",
    "            prev_value = current_value  # Set the previous value for the next iteration\n",
    "\n",
    "        return int_number"
   ]
  },
  {
   "cell_type": "code",
   "execution_count": 15,
   "metadata": {},
   "outputs": [
    {
     "name": "stdout",
     "output_type": "stream",
     "text": [
      "3\n"
     ]
    }
   ],
   "source": [
    "solution = Solution()\n",
    "\n",
    "s = \"III\"\n",
    "\n",
    "print(solution.romanToInt(s))"
   ]
  },
  {
   "cell_type": "markdown",
   "metadata": {},
   "source": [
    "# 3"
   ]
  },
  {
   "cell_type": "code",
   "execution_count": null,
   "metadata": {},
   "outputs": [],
   "source": [
    "class Solution(object):\n",
    "    def longestCommonPrefix(self, strs):\n",
    "        for word in strs:\n",
    "            for letter in "
   ]
  },
  {
   "cell_type": "code",
   "execution_count": 23,
   "metadata": {},
   "outputs": [
    {
     "data": {
      "text/plain": [
       "'flower'"
      ]
     },
     "execution_count": 23,
     "metadata": {},
     "output_type": "execute_result"
    }
   ],
   "source": [
    "strs = [\"flower\", \"flow\", \"flight\"]\n",
    "\n",
    "strs[0]"
   ]
  },
  {
   "cell_type": "code",
   "execution_count": 24,
   "metadata": {},
   "outputs": [
    {
     "name": "stdout",
     "output_type": "stream",
     "text": [
      "None\n"
     ]
    }
   ],
   "source": [
    "\n",
    "print(strs.sort())"
   ]
  },
  {
   "cell_type": "code",
   "execution_count": 30,
   "metadata": {},
   "outputs": [
    {
     "name": "stdout",
     "output_type": "stream",
     "text": [
      "<zip object at 0x107399440> 1\n"
     ]
    }
   ],
   "source": [
    "print(zip(*strs), 1)"
   ]
  },
  {
   "cell_type": "code",
   "execution_count": null,
   "metadata": {},
   "outputs": [],
   "source": [
    "class Solution:\n",
    "    def longestCommonPrefix(self, strs)\n",
    "        if not len(strs):\n",
    "            return ''\n",
    "        \n",
    "        i = 0\n",
    "        for i, chars in enumerate(zip(*strs), 1):\n",
    "            if len(set(chars)) != 1:\n",
    "                i -= 1\n",
    "                break\n",
    "        \n",
    "        return strs[0][:i]\n",
    "        \n",
    "\n",
    "solution = Solution()        \n",
    "strs1 = [\"flower\", \"flow\", \"flight\"]\n",
    "print(solution.longestCommonPrefix(strs1))  # Output: \"fl\""
   ]
  }
 ],
 "metadata": {
  "kernelspec": {
   "display_name": "Python 3.10 (mainvenv)",
   "language": "python",
   "name": "mainenv"
  },
  "language_info": {
   "codemirror_mode": {
    "name": "ipython",
    "version": 3
   },
   "file_extension": ".py",
   "mimetype": "text/x-python",
   "name": "python",
   "nbconvert_exporter": "python",
   "pygments_lexer": "ipython3",
   "version": "3.10.10"
  },
  "orig_nbformat": 4
 },
 "nbformat": 4,
 "nbformat_minor": 2
}
